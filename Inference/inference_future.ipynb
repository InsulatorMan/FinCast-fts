{
 "cells": [
  {
   "cell_type": "code",
   "execution_count": 2,
   "id": "32a2da16",
   "metadata": {},
   "outputs": [],
   "source": [
    "import json\n",
    "import os\n",
    "import sys\n",
    "import time\n",
    "import numpy as np\n",
    "import pandas as pd\n",
    "\n",
    "from types import SimpleNamespace\n",
    "\n",
    "\n",
    "from data_tools.TSdataset import TimeSeriesDataset_MultiCSV_train_Production\n",
    "\n",
    "from tools.inference_utils import FinCast_Inference"
   ]
  },
  {
   "cell_type": "code",
   "execution_count": 3,
   "id": "a360734a",
   "metadata": {},
   "outputs": [],
   "source": [
    "## set up \n",
    "\n",
    "config = SimpleNamespace()\n",
    "\n",
    "#device\n",
    "config.backend = \"gpu\"                    #cpu for cpu only, gpu for cuda gpu\n",
    "\n",
    "#model path\n",
    "config.model_path = \"/home/vincent-4090/Documents/GitHub/FinCast-fts/checkpoints/v1/hbc_v4_ep3_lowq_trained.pth\"            #the pth file for model path\n",
    "\n",
    "#model version\n",
    "config.model_version = \"v1\"           #only v1 for now, v1 is the 1b model in cikm 2025 paper, will release a better v2 soon with better performance and smaller size\n",
    "\n",
    "\n",
    "#data related\n",
    "config.data_path =  \"/home/vincent-4090/Documents/GitHub/FinCast-fts/datasets/home/vincent-1080/repo/Finance_data/work_folder/1m/AAPL__combined__20250702T133000Z__to__20250812T140900Z_1m.csv\"               #path to your data\n",
    "config.data_frequency = \"m\"       #supports from second to year, use s for second, y for year and so for\n",
    "config.context_len = 128             #input length for forecast input, from 32 to 1024\n",
    "config.horizon_len = 5             #output length for forecast output, from 1 to 256\n",
    "\n",
    "config.all_data = False               #boolean, False => only use the last input(input = context length), True =>  stride = 1, slices all input data and inference\n",
    "\n",
    "config.columns_target = ['Close']             #the columns which you want to forecast, can use both int (index of that column) or str for column name\n",
    "\n",
    "config.series_norm = False            #True for norm each series, false for not norm.\n",
    "\n",
    "config.batch_size = 64                #go lower if you have a smaller vram.\n",
    "\n",
    "\n",
    "#output related\n",
    "config.forecast_mode = \"mean\"         #mean or median\n",
    "config.quantile_outputs = []          #put in the optional quantile outputs you want, from q1 to q9, leave empty for nothing\n",
    "\n",
    "\n",
    "config.save_output = True            #saves numeric outputs to csv\n",
    "config.save_output_path = \"/home/vincent-4090/Documents/GitHub/FinCast-fts/results\"          #path for saving your outputs.\n",
    "\n",
    "config.plt_outputs = True             #plt all the last outputs\n",
    "config.plt_quantiles = [1, 3, 5, 9]             #quantiles to plt, from 1 to 9, use int\n",
    "\n"
   ]
  },
  {
   "cell_type": "code",
   "execution_count": 4,
   "id": "06a64b55",
   "metadata": {},
   "outputs": [],
   "source": [
    "#auto run code, just run this cell\n",
    "fincast_inference = FinCast_Inference(config)\n",
    "\n",
    "\n",
    "preds, mapping, full_outputs = fincast_inference.run_inference()\n",
    "\n",
    "\n"
   ]
  },
  {
   "cell_type": "code",
   "execution_count": null,
   "id": "1343a764",
   "metadata": {},
   "outputs": [],
   "source": []
  },
  {
   "cell_type": "code",
   "execution_count": null,
   "id": "2baebaf3",
   "metadata": {},
   "outputs": [],
   "source": []
  }
 ],
 "metadata": {
  "kernelspec": {
   "display_name": "fincast_v1",
   "language": "python",
   "name": "python3"
  },
  "language_info": {
   "codemirror_mode": {
    "name": "ipython",
    "version": 3
   },
   "file_extension": ".py",
   "mimetype": "text/x-python",
   "name": "python",
   "nbconvert_exporter": "python",
   "pygments_lexer": "ipython3",
   "version": "3.11.13"
  }
 },
 "nbformat": 4,
 "nbformat_minor": 5
}
