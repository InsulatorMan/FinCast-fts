{
 "cells": [
  {
   "cell_type": "code",
   "execution_count": 1,
   "id": "32a2da16",
   "metadata": {},
   "outputs": [
    {
     "name": "stdout",
     "output_type": "stream",
     "text": [
      "Loaded PyTorch FinCast, python version 3.11.13 (main, Jun  5 2025, 13:12:00) [GCC 11.2.0].\n"
     ]
    }
   ],
   "source": [
    "import json\n",
    "import os\n",
    "import sys\n",
    "import time\n",
    "import numpy as np\n",
    "import pandas as pd\n",
    "\n",
    "from types import SimpleNamespace\n",
    "\n",
    "\n",
    "from data_tools.TSdataset import TimeSeriesDataset_MultiCSV_train_Production\n",
    "\n",
    "from tools.inference_utils import FinCast_Inference"
   ]
  },
  {
   "cell_type": "code",
   "execution_count": 2,
   "id": "a360734a",
   "metadata": {},
   "outputs": [],
   "source": [
    "## set up \n",
    "\n",
    "config = SimpleNamespace()\n",
    "\n",
    "#device\n",
    "config.backend = \"gpu\"                    #cpu for cpu only, gpu for cuda gpu\n",
    "\n",
    "#model path\n",
    "config.model_path = \"/home/vincent-4090/Documents/GitHub/FinCast-fts/checkpoints/v1/hbc_v4_ep3_lowq_trained.pth\"            #the pth file for model path\n",
    "\n",
    "#model version\n",
    "config.model_version = \"v1\"           #only v1 for now, v1 is the 1b model in cikm 2025 paper, will release a better v2 soon with better performance and smaller size\n",
    "\n",
    "\n",
    "#data related\n",
    "config.data_path =  \"/home/vincent-4090/Documents/GitHub/FinCast-fts/datasets/home/vincent-1080/repo/Finance_data/work_folder/1m/AAPL__combined__20250702T133000Z__to__20250812T140900Z_1m.csv\"               #path to your data\n",
    "config.data_frequency = \"m\"       #supports from second to year, use s for second, y for year and so for\n",
    "config.context_len = 128             #input length for forecast input, from 32 to 1024\n",
    "config.horizon_len = 5             #output length for forecast output, from 1 to 256\n",
    "\n",
    "config.all_data = False               #boolean, False => only use the last input(input = context length), True =>  stride = 1, slices all input data and inference\n",
    "\n",
    "config.columns_target = ['Close']             #the columns which you want to forecast, can use both int (index of that column) or str for column name\n",
    "\n",
    "config.series_norm = False            #True for norm each series, false for not norm.\n",
    "\n",
    "config.batch_size = 64                #go lower if you have a smaller vram.\n",
    "\n",
    "\n",
    "#output related\n",
    "config.forecast_mode = \"mean\"         #mean or median\n",
    "config.quantile_outputs = []          #put in the optional quantile outputs you want, from q1 to q9, leave empty for nothing\n",
    "\n",
    "\n",
    "config.save_output = False            #saves numeric outputs to csv\n",
    "config.save_output_path = \"\"          #path for saving your outputs.\n",
    "\n",
    "\n"
   ]
  },
  {
   "cell_type": "code",
   "execution_count": 3,
   "id": "06a64b55",
   "metadata": {},
   "outputs": [
    {
     "ename": "ValueError",
     "evalue": "setting an array element with a sequence. The requested array has an inhomogeneous shape after 3 dimensions. The detected shape was (2, 1, 5) + inhomogeneous part.",
     "output_type": "error",
     "traceback": [
      "\u001b[31m---------------------------------------------------------------------------\u001b[39m",
      "\u001b[31mValueError\u001b[39m                                Traceback (most recent call last)",
      "\u001b[36mCell\u001b[39m\u001b[36m \u001b[39m\u001b[32mIn[3]\u001b[39m\u001b[32m, line 5\u001b[39m\n\u001b[32m      1\u001b[39m \u001b[38;5;66;03m#auto run code, just run this cell\u001b[39;00m\n\u001b[32m      2\u001b[39m fincast_inference = FinCast_Inference(config)\n\u001b[32m----> \u001b[39m\u001b[32m5\u001b[39m preds, mapping = fincast_inference.run_inference()\n",
      "\u001b[36mFile \u001b[39m\u001b[32m~/Documents/GitHub/FinCast-fts/src/tools/inference_utils.py:150\u001b[39m, in \u001b[36mFinCast_Inference.run_inference\u001b[39m\u001b[34m(self, num_workers)\u001b[39m\n\u001b[32m    148\u001b[39m     preds_np = preds\n\u001b[32m    149\u001b[39m \u001b[38;5;28;01melse\u001b[39;00m:\n\u001b[32m--> \u001b[39m\u001b[32m150\u001b[39m     preds_np = np.asarray(preds)\n\u001b[32m    152\u001b[39m preds_collector.append(preds_np)\n\u001b[32m    153\u001b[39m mapping_rows.extend(meta)   \u001b[38;5;66;03m# meta aligns with batch dimension\u001b[39;00m\n",
      "\u001b[31mValueError\u001b[39m: setting an array element with a sequence. The requested array has an inhomogeneous shape after 3 dimensions. The detected shape was (2, 1, 5) + inhomogeneous part."
     ]
    }
   ],
   "source": [
    "#auto run code, just run this cell\n",
    "fincast_inference = FinCast_Inference(config)\n",
    "\n",
    "\n",
    "preds, mapping = fincast_inference.run_inference()\n",
    "\n",
    "\n"
   ]
  },
  {
   "cell_type": "code",
   "execution_count": null,
   "id": "1343a764",
   "metadata": {},
   "outputs": [],
   "source": []
  }
 ],
 "metadata": {
  "kernelspec": {
   "display_name": "fincast_v1",
   "language": "python",
   "name": "python3"
  },
  "language_info": {
   "codemirror_mode": {
    "name": "ipython",
    "version": 3
   },
   "file_extension": ".py",
   "mimetype": "text/x-python",
   "name": "python",
   "nbconvert_exporter": "python",
   "pygments_lexer": "ipython3",
   "version": "3.11.13"
  }
 },
 "nbformat": 4,
 "nbformat_minor": 5
}
