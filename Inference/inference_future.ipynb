{
 "cells": [
  {
   "cell_type": "code",
   "execution_count": 1,
   "id": "32a2da16",
   "metadata": {},
   "outputs": [
    {
     "name": "stdout",
     "output_type": "stream",
     "text": [
      "Loaded PyTorch FinCast, python version 3.11.13 (main, Jun  5 2025, 13:12:00) [GCC 11.2.0].\n"
     ]
    }
   ],
   "source": [
    "import json\n",
    "import os\n",
    "import sys\n",
    "import time\n",
    "import numpy as np\n",
    "import pandas as pd\n",
    "\n",
    "from types import SimpleNamespace\n",
    "\n",
    "\n",
    "from data_tools.TSdataset import TimeSeriesDataset_MultiCSV_train_Production\n",
    "\n",
    "from tools.inference_utils import get_forecasts_f, get_model_api, freq_reader_inference, TimeSeriesDataset_SingleCSV_Inference"
   ]
  },
  {
   "cell_type": "code",
   "execution_count": null,
   "id": "a360734a",
   "metadata": {},
   "outputs": [],
   "source": [
    "## set up \n",
    "\n",
    "config = SimpleNamespace()\n",
    "\n",
    "\n",
    "#model version\n",
    "config.model_version = \"v1\"           #only v1 for now, v1 is the 1b model in cikm 2025 paper, will release a better v2 soon with better performance and smaller size\n",
    "\n",
    "\n",
    "#data related\n",
    "config.data_path =  \"\"               #path to your data\n",
    "config.data_frequency = \"s\"       #supports from second to year, use s for second, y for year and so for\n",
    "config.context_len = 128             #input length for forecast input\n",
    "config.horizon_len = 64             #output length for forecast output\n",
    "\n",
    "config.all_data = False               #boolean, False => only use the last input(input = context length), True =>  stride = 1, slices all input data and inference\n",
    "\n",
    "config.columns_target = []             #the columns which you want to forecast, can use both int (index of that column) or str for column name\n",
    "\n",
    "config.series_norm = False            #True for norm each series, false for not norm.\n",
    "\n",
    "\n",
    "#output related\n",
    "config.forecast_mode = \"mean\"         #mean or median\n",
    "config.quantile_outputs = []          #put in the optional quantile outputs you want, from q1 to q9, leave empty for nothing\n",
    "\n",
    "\n",
    "config.save_output = False            #saves numeric outputs to csv\n",
    "config.save_output_path = \"\"          #path for saving your outputs.\n",
    "\n",
    "\n"
   ]
  },
  {
   "cell_type": "code",
   "execution_count": null,
   "id": "06a64b55",
   "metadata": {},
   "outputs": [],
   "source": []
  }
 ],
 "metadata": {
  "kernelspec": {
   "display_name": "fincast_v1",
   "language": "python",
   "name": "python3"
  },
  "language_info": {
   "codemirror_mode": {
    "name": "ipython",
    "version": 3
   },
   "file_extension": ".py",
   "mimetype": "text/x-python",
   "name": "python",
   "nbconvert_exporter": "python",
   "pygments_lexer": "ipython3",
   "version": "3.11.13"
  }
 },
 "nbformat": 4,
 "nbformat_minor": 5
}
